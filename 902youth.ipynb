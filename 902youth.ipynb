{
 "cells": [
  {
   "cell_type": "code",
   "execution_count": 5,
   "id": "e8a95e8a",
   "metadata": {
    "scrolled": true
   },
   "outputs": [
    {
     "name": "stdout",
     "output_type": "stream",
     "text": [
      "Collecting geopy\n",
      "  Downloading geopy-2.4.1-py3-none-any.whl (125 kB)\n",
      "Collecting geographiclib<3,>=1.52\n",
      "  Downloading geographiclib-2.0-py3-none-any.whl (40 kB)\n",
      "Installing collected packages: geographiclib, geopy\n",
      "Successfully installed geographiclib-2.0 geopy-2.4.1\n"
     ]
    }
   ],
   "source": [
    "!pip install geopy\n"
   ]
  },
  {
   "cell_type": "code",
   "execution_count": 16,
   "id": "d08051dd",
   "metadata": {},
   "outputs": [],
   "source": [
    "import plotly.express as px\n",
    "import pandas as pd\n",
    "from geopy.geocoders import Nominatim\n",
    "from geopy.exc import GeocoderTimedOut\n",
    "\n",
    "# Load your data from the CSV file\n",
    "data = pd.read_csv(\"902nonprofitdata.csv\")\n",
    "\n",
    "# Function to geocode addresses and handle timeouts\n",
    "def geocode_address(address):\n",
    "    geolocator = Nominatim(user_agent=\"my_geocoder\")\n",
    "    try:\n",
    "        location = geolocator.geocode(address, timeout=10)\n",
    "        if location:\n",
    "            return location.latitude, location.longitude\n",
    "        else:\n",
    "            return None, None\n",
    "    except (GeocoderTimedOut, AttributeError):\n",
    "        return None, None\n",
    "\n",
    "\n",
    "data['lat'], data['lon'] = zip(*data['Address'].apply(geocode_address))\n",
    "\n",
    "# Assuming your CSV has columns like 'Name', 'Address', 'Phone'\n",
    "fig = px.scatter_geo(data, locationmode='USA-states', text='Name',\n",
    "                     lon='lon', lat='lat',\n",
    "                     hover_name='Name', hover_data=['Phone', 'Name'],\n",
    "                     color='Name',  \n",
    "                     scope='usa')\n",
    "\n",
    "\n",
    "fig.update_traces(marker=dict(size=8, opacity=0.7, line=dict(width=1, color='black')))\n",
    "\n",
    "\n",
    "fig.update_geos(showland=True, landcolor=\"rgb(255, 243, 204)\")\n",
    "fig.update_geos(center=dict(lon=-71.0589, lat=42.3601), projection_scale=20)\n",
    "\n",
    "\n",
    "fig.update_layout(hoverlabel=dict(bgcolor=\"rgba(255, 255, 255, 0.8)\", font_size=12, font_family=\"Arial\"))\n",
    "\n",
    "# Save the Plotly visualization as HTML\n",
    "fig.write_html(\"heatmap.html\")\n"
   ]
  },
  {
   "cell_type": "code",
   "execution_count": 9,
   "id": "9892183e",
   "metadata": {},
   "outputs": [],
   "source": []
  },
  {
   "cell_type": "code",
   "execution_count": null,
   "id": "1fff967a",
   "metadata": {},
   "outputs": [],
   "source": []
  }
 ],
 "metadata": {
  "kernelspec": {
   "display_name": "Python 3 (ipykernel)",
   "language": "python",
   "name": "python3"
  },
  "language_info": {
   "codemirror_mode": {
    "name": "ipython",
    "version": 3
   },
   "file_extension": ".py",
   "mimetype": "text/x-python",
   "name": "python",
   "nbconvert_exporter": "python",
   "pygments_lexer": "ipython3",
   "version": "3.9.7"
  }
 },
 "nbformat": 4,
 "nbformat_minor": 5
}
